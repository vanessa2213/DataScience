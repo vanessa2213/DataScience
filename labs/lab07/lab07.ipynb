{
 "cells": [
  {
   "cell_type": "markdown",
   "metadata": {},
   "source": [
    "## Resampling and the Bootstrap"
   ]
  },
  {
   "cell_type": "markdown",
   "metadata": {},
   "source": [
    "Welcome to lab 7!\n",
    "\n",
    "In textbook section [10.3](https://www.inferentialthinking.com/chapters/10/3/Empirical_Distribution_of_a_Statistic.html), we saw an example of *estimation*.  The British Royal Air Force wanted to know how many warplanes the Germans had (some number `N`, a *population parameter*), and they needed to estimate that quantity knowing only a random sample of the planes' serial numbers (from 1 to `N`).  For example, one estimate was twice the mean of the sample serial numbers.\n",
    "\n",
    "We investigated the random variation in these estimates by simulating sampling from the population many times and computing estimates from each sample.  In real life, if the RAF had known what the population looked like, they would have known `N` and would not have had any reason to think about random sampling.  They didn't know what the population looked like, so they couldn't have run the simulations we did.  So that was useful as an exercise in *understanding random variation* in an estimate, but not as a tool for practical data analysis.\n",
    "\n",
    "Now we'll flip that idea on its head to make it practical.  Given *just* a random sample of serial numbers, we'll estimate `N`, and then we'll use simulation to find out how accurate our estimate probably is, without ever looking at the whole population.  This is an example of *statistical inference*.\n",
    "\n",
    "As usual, **run the cell below** to prepare the lab and the automatic tests."
   ]
  },
  {
   "cell_type": "code",
   "execution_count": 1,
   "metadata": {},
   "outputs": [
    {
     "name": "stdout",
     "output_type": "stream",
     "text": [
      "=====================================================================\n",
      "Assignment: Resampling and the Bootstrap\n",
      "OK, version v1.18.1\n",
      "=====================================================================\n",
      "\n"
     ]
    },
    {
     "name": "stderr",
     "output_type": "stream",
     "text": [
      "ERROR  | auth.py:102 | {'error': 'invalid_grant'}\n"
     ]
    },
    {
     "name": "stdout",
     "output_type": "stream",
     "text": [
      "\n",
      "Open the following URL:\n",
      "\n",
      "https://okpy.org/client/login/\n",
      "\n",
      "After logging in, copy the code from the web page and paste it into the box.\n",
      "Then press the \"Enter\" key on your keyboard.\n",
      "\n",
      "Paste your code here: WuZq62gkYGLhDI3IQsy2kgWl0BZyGb\n",
      "Successfully logged in as a00344428@itesm.mx\n"
     ]
    }
   ],
   "source": [
    "# Run this cell to set up the notebook, but please don't change it.\n",
    "\n",
    "# These lines import the Numpy and Datascience modules.\n",
    "import numpy as np\n",
    "from datascience import *\n",
    "\n",
    "# These lines do some fancy plotting magic.\n",
    "import matplotlib\n",
    "%matplotlib inline\n",
    "import matplotlib.pyplot as plt\n",
    "plt.style.use('fivethirtyeight')\n",
    "import warnings\n",
    "warnings.simplefilter('ignore', FutureWarning)\n",
    "\n",
    "# These lines load the tests.\n",
    "from client.api.notebook import Notebook\n",
    "ok = Notebook('lab07.ok')\n",
    "_ = ok.auth(inline=True)"
   ]
  },
  {
   "cell_type": "markdown",
   "metadata": {},
   "source": [
    "## 1. Preliminaries\n",
    "Remember the setup: We (the RAF in World War II) want to know the number of warplanes fielded by the Germans.  That number is `N`.  The warplanes have serial numbers from 1 to `N`, so `N` is also equal to the largest serial number on any of the warplanes.\n",
    "\n",
    "We only see a small number of serial numbers (assumed to be a random sample with replacement from among all the serial numbers), so we have to use estimation."
   ]
  },
  {
   "cell_type": "markdown",
   "metadata": {},
   "source": [
    "#### Question 1.1\n",
    "Is `N` a population parameter or a statistic?  If we compute a number using our random sample that's an estimate of `N`, is that a population parameter or a statistic?"
   ]
  },
  {
   "cell_type": "markdown",
   "metadata": {},
   "source": [
    "N is a population parameter and an estimate is a statistic."
   ]
  },
  {
   "cell_type": "markdown",
   "metadata": {},
   "source": [
    "Check your answer with a neighbor or a TA.\n",
    "\n",
    "To make the situation realistic, we're going to hide the true number of warplanes from you.  You'll have access only to this random sample:"
   ]
  },
  {
   "cell_type": "code",
   "execution_count": 2,
   "metadata": {},
   "outputs": [
    {
     "data": {
      "text/html": [
       "<table border=\"1\" class=\"dataframe\">\n",
       "    <thead>\n",
       "        <tr>\n",
       "            <th>serial number</th>\n",
       "        </tr>\n",
       "    </thead>\n",
       "    <tbody>\n",
       "        <tr>\n",
       "            <td>47           </td>\n",
       "        </tr>\n",
       "        <tr>\n",
       "            <td>42           </td>\n",
       "        </tr>\n",
       "        <tr>\n",
       "            <td>57           </td>\n",
       "        </tr>\n",
       "        <tr>\n",
       "            <td>79           </td>\n",
       "        </tr>\n",
       "        <tr>\n",
       "            <td>26           </td>\n",
       "        </tr>\n",
       "        <tr>\n",
       "            <td>23           </td>\n",
       "        </tr>\n",
       "        <tr>\n",
       "            <td>36           </td>\n",
       "        </tr>\n",
       "        <tr>\n",
       "            <td>64           </td>\n",
       "        </tr>\n",
       "        <tr>\n",
       "            <td>83           </td>\n",
       "        </tr>\n",
       "        <tr>\n",
       "            <td>135          </td>\n",
       "        </tr>\n",
       "    </tbody>\n",
       "</table>\n",
       "<p>... (7 rows omitted)</p>"
      ],
      "text/plain": [
       "serial number\n",
       "47\n",
       "42\n",
       "57\n",
       "79\n",
       "26\n",
       "23\n",
       "36\n",
       "64\n",
       "83\n",
       "135\n",
       "... (7 rows omitted)"
      ]
     },
     "execution_count": 2,
     "metadata": {},
     "output_type": "execute_result"
    }
   ],
   "source": [
    "observations = Table.read_table(\"serial_numbers.csv\")\n",
    "num_observations = observations.num_rows\n",
    "observations"
   ]
  },
  {
   "cell_type": "markdown",
   "metadata": {},
   "source": [
    "#### Question 1.2\n",
    "Define a function named `plot_serial_numbers` to make a histogram of any table of serial numbers.  It should take one argument, a table like `observations` with one column called `\"serial number\"`.  It should plot a histogram of the values in the column **using bins of width 1** ranging from **1 to 200** but return nothing.  Then, call that function to make a histogram of `observations`."
   ]
  },
  {
   "cell_type": "code",
   "execution_count": 3,
   "metadata": {},
   "outputs": [
    {
     "data": {
      "image/png": "[encoded data removed]",
      "text/plain": [
       "<Figure size 432x288 with 1 Axes>"
      ]
     },
     "metadata": {},
     "output_type": "display_data"
    }
   ],
   "source": [
    "def plot_serial_numbers(numbers):\n",
    "    numbers.hist(bins=np.arange(1, 200+2)) \n",
    "    \n",
    "    # Assuming the lines above produce a histogram, this next\n",
    "    # line may make your histograms look nicer.  Feel free to\n",
    "    # delete it if you want.\n",
    "    plt.ylim(0, .25)\n",
    "\n",
    "plot_serial_numbers(observations)"
   ]
  },
  {
   "cell_type": "markdown",
   "metadata": {},
   "source": [
    "#### Question 1.3\n",
    "What does each little bar in the histogram represent and why are all the bars the same height?"
   ]
  },
  {
   "cell_type": "markdown",
   "metadata": {},
   "source": [
    "Each bar represents one observed serial number. They are all the same height because there are not two equal numbers. "
   ]
  },
  {
   "cell_type": "markdown",
   "metadata": {},
   "source": [
    "#### Question 1.4\n",
    "In the previous lab, we saw that one way to estimate `N` was to take twice the mean of the serial numbers we see. Write a function that computes that statistic.  It should take as its argument an array of serial numbers and return twice their mean.  Call it `mean_based_estimator`.  \n",
    "\n",
    "After that, use it to compute an estimate of `N` called `mean_based_estimate`."
   ]
  },
  {
   "cell_type": "code",
   "execution_count": 5,
   "metadata": {},
   "outputs": [
    {
     "data": {
      "text/plain": [
       "122.47058823529412"
      ]
     },
     "execution_count": 5,
     "metadata": {},
     "output_type": "execute_result"
    }
   ],
   "source": [
    "def mean_based_estimator(nums):\n",
    "    return 2*np.average(nums)\n",
    "\n",
    "mean_based_estimate = mean_based_estimator(observations.column(0))\n",
    "mean_based_estimate"
   ]
  },
  {
   "cell_type": "code",
   "execution_count": 6,
   "metadata": {},
   "outputs": [
    {
     "name": "stdout",
     "output_type": "stream",
     "text": [
      "~~~~~~~~~~~~~~~~~~~~~~~~~~~~~~~~~~~~~~~~~~~~~~~~~~~~~~~~~~~~~~~~~~~~~\n",
      "Running tests\n",
      "\n",
      "---------------------------------------------------------------------\n",
      "Test summary\n",
      "    Passed: 1\n",
      "    Failed: 0\n",
      "[ooooooooook] 100.0% passed\n",
      "\n"
     ]
    }
   ],
   "source": [
    "_ = ok.grade('q1_4')"
   ]
  },
  {
   "cell_type": "markdown",
   "metadata": {},
   "source": [
    "#### Question 1.5\n",
    "We also estimated `N` using the biggest serial number in the sample.  Compute it, giving it the name `max_estimate`."
   ]
  },
  {
   "cell_type": "code",
   "execution_count": 7,
   "metadata": {},
   "outputs": [
    {
     "data": {
      "text/plain": [
       "135"
      ]
     },
     "execution_count": 7,
     "metadata": {},
     "output_type": "execute_result"
    }
   ],
   "source": [
    "max_estimate = max(observations.column(0))\n",
    "max_estimate"
   ]
  },
  {
   "cell_type": "code",
   "execution_count": 8,
   "metadata": {},
   "outputs": [
    {
     "name": "stdout",
     "output_type": "stream",
     "text": [
      "~~~~~~~~~~~~~~~~~~~~~~~~~~~~~~~~~~~~~~~~~~~~~~~~~~~~~~~~~~~~~~~~~~~~~\n",
      "Running tests\n",
      "\n",
      "---------------------------------------------------------------------\n",
      "Test summary\n",
      "    Passed: 1\n",
      "    Failed: 0\n",
      "[ooooooooook] 100.0% passed\n",
      "\n"
     ]
    }
   ],
   "source": [
    "_ = ok.grade('q1_5')"
   ]
  },
  {
   "cell_type": "markdown",
   "metadata": {},
   "source": [
    "#### Question 1.6\n",
    "Look at the values of `max_estimate` and `mean_based_estimate` that we happened to get for our dataset.  The value of `max_estimate` tells you something about `mean_based_estimate`.  Is it possible for `mean_based_estimate` to be equal to `N` (at least, if we round it to the nearest integer)?  If not, is it definitely higher, definitely lower, or can we not tell?  Can you make a statement like \"`mean_based_estimate` is at least *[fill in a number]* away from `N`\"?"
   ]
  },
  {
   "cell_type": "markdown",
   "metadata": {},
   "source": [
    "Is not possible for mean_based_estimate to be equal to N. It is definitely lower. N.max_estimate can never be more than N, so N is at least 135, therefore mean_based_estimate is at least 11 away from N."
   ]
  },
  {
   "cell_type": "markdown",
   "metadata": {},
   "source": [
    "Check your answer with a neighbor or a TA.\n",
    "\n",
    "We can't just confidently proclaim that `max_estimate` or `mean_based_estimate` is equal to `N`.  What if we're really far off?  So we want to get a sense of the accuracy of our estimates."
   ]
  },
  {
   "cell_type": "markdown",
   "metadata": {},
   "source": [
    "## 2. Resampling\n",
    "To do this, we'll use resampling.  That is, we won't exactly simulate the observations the RAF would have really seen.  Rather we sample from our current sample, or \"resample.\"\n",
    "\n",
    "Why does that make any sense?\n",
    "\n",
    "When we tried to estimate `N`, we would have liked to use the whole population.  Since we had only a sample, we used that to estimate `N` instead.\n",
    "\n",
    "This time, we would like to use the population of serial numbers to *run a simulation* about estimates of `N`.  But we still only have our sample.  We use our sample in place of the population to run the simulation.\n",
    "\n",
    "So there is a simple analogy between estimating `N` and simulating the variability of estimates.\n",
    "\n",
    "$$\\text{computing }N\\text{ from the population}$$\n",
    "$$:$$\n",
    "$$\\text{computing an estimate of }N\\text{ from a sample}$$\n",
    "\n",
    "$$\\text{as}$$\n",
    "\n",
    "$$\\text{simulating the distribution of estimates of }N\\text{ using samples from the population}$$\n",
    "$$:$$\n",
    "$$\\text{simulating an (approximate) distribution of estimates of }N\\text{ using resamples from a sample}$$"
   ]
  },
  {
   "cell_type": "markdown",
   "metadata": {},
   "source": [
    "#### Question 2.1\n",
    "Write a function called `simulate_resample`.  It should generate a resample from the observed serial numbers in `observations` and return that resample.  (The resample should be a table like `observations`.)  It should take no arguments."
   ]
  },
  {
   "cell_type": "code",
   "execution_count": 9,
   "metadata": {},
   "outputs": [],
   "source": [
    "def simulate_resample():\n",
    "    return observations.sample(num_observations)"
   ]
  },
  {
   "cell_type": "markdown",
   "metadata": {},
   "source": [
    "Let's make one resample."
   ]
  },
  {
   "cell_type": "code",
   "execution_count": 10,
   "metadata": {},
   "outputs": [
    {
     "data": {
      "text/html": [
       "<table border=\"1\" class=\"dataframe\">\n",
       "    <thead>\n",
       "        <tr>\n",
       "            <th>serial number</th>\n",
       "        </tr>\n",
       "    </thead>\n",
       "    <tbody>\n",
       "        <tr>\n",
       "            <td>108          </td>\n",
       "        </tr>\n",
       "        <tr>\n",
       "            <td>57           </td>\n",
       "        </tr>\n",
       "        <tr>\n",
       "            <td>57           </td>\n",
       "        </tr>\n",
       "        <tr>\n",
       "            <td>36           </td>\n",
       "        </tr>\n",
       "        <tr>\n",
       "            <td>41           </td>\n",
       "        </tr>\n",
       "        <tr>\n",
       "            <td>42           </td>\n",
       "        </tr>\n",
       "        <tr>\n",
       "            <td>47           </td>\n",
       "        </tr>\n",
       "        <tr>\n",
       "            <td>50           </td>\n",
       "        </tr>\n",
       "        <tr>\n",
       "            <td>135          </td>\n",
       "        </tr>\n",
       "        <tr>\n",
       "            <td>47           </td>\n",
       "        </tr>\n",
       "    </tbody>\n",
       "</table>\n",
       "<p>... (7 rows omitted)</p>"
      ],
      "text/plain": [
       "serial number\n",
       "108\n",
       "57\n",
       "57\n",
       "36\n",
       "41\n",
       "42\n",
       "47\n",
       "50\n",
       "135\n",
       "47\n",
       "... (7 rows omitted)"
      ]
     },
     "execution_count": 10,
     "metadata": {},
     "output_type": "execute_result"
    }
   ],
   "source": [
    "# This is a little magic to make sure that you see the same results\n",
    "# we did.\n",
    "np.random.seed(123)\n",
    "\n",
    "one_resample = simulate_resample()\n",
    "one_resample"
   ]
  },
  {
   "cell_type": "markdown",
   "metadata": {},
   "source": [
    "Later, we'll use many resamples at once to see what estimates typically look like.  We don't often pay attention to single resamples, so it's easy to misunderstand them.  Let's examine some individual resamples before we start using them."
   ]
  },
  {
   "cell_type": "markdown",
   "metadata": {},
   "source": [
    "#### Question 2.2\n",
    "Make a histogram of your resample using the plotting function you defined earlier in this lab, **and** a separate histogram of the original observations."
   ]
  },
  {
   "cell_type": "code",
   "execution_count": 12,
   "metadata": {},
   "outputs": [
    {
     "data": {
      "image/png": "[encoded data removed]",
      "text/plain": [
       "<Figure size 432x288 with 1 Axes>"
      ]
     },
     "metadata": {},
     "output_type": "display_data"
    },
    {
     "data": {
      "image/png": "[encoded data removed]",
      "text/plain": [
       "<Figure size 432x288 with 1 Axes>"
      ]
     },
     "metadata": {},
     "output_type": "display_data"
    }
   ],
   "source": [
    "plot_serial_numbers(one_resample)\n",
    "plot_serial_numbers(observations)"
   ]
  },
  {
   "cell_type": "markdown",
   "metadata": {},
   "source": [
    "#### Question 2.3\n",
    "Which of the following are true:\n",
    "1. In the plot of the resample, there are no bars at locations that weren't there in the plot of the original observations.\n",
    "2. In the plot of the original observations, there are no bars at locations that weren't there in the plot of the resample.\n",
    "3. The resample has exactly one copy of each serial number.\n",
    "4. The sample has exactly one copy of each serial number.\n",
    "\n",
    "Assign true_statements to a list of the correct statements."
   ]
  },
  {
   "cell_type": "code",
   "execution_count": 16,
   "metadata": {},
   "outputs": [],
   "source": [
    "true_statements = [1,4]"
   ]
  },
  {
   "cell_type": "code",
   "execution_count": 17,
   "metadata": {},
   "outputs": [
    {
     "name": "stdout",
     "output_type": "stream",
     "text": [
      "~~~~~~~~~~~~~~~~~~~~~~~~~~~~~~~~~~~~~~~~~~~~~~~~~~~~~~~~~~~~~~~~~~~~~\n",
      "Running tests\n",
      "\n",
      "---------------------------------------------------------------------\n",
      "Test summary\n",
      "    Passed: 1\n",
      "    Failed: 0\n",
      "[ooooooooook] 100.0% passed\n",
      "\n"
     ]
    }
   ],
   "source": [
    "_ = ok.grade('q2_3')"
   ]
  },
  {
   "cell_type": "markdown",
   "metadata": {},
   "source": [
    "#### Question 2.4\n",
    "Create 2 more resamples. For each one, plot it as well as compute the max- and mean-based estimates using that resample."
   ]
  },
  {
   "cell_type": "code",
   "execution_count": 19,
   "metadata": {},
   "outputs": [
    {
     "name": "stdout",
     "output_type": "stream",
     "text": [
      "Mean-based estimate for resample 0: 128.8235294117647\n",
      "Max-based estimate for resample 0: 135\n",
      "Mean-based estimate for resample 1: 106.82352941176471\n",
      "Max-based estimate for resample 1: 108\n"
     ]
    },
    {
     "data": {
      "image/png": "[encoded data removed]",
      "text/plain": [
       "<Figure size 432x288 with 1 Axes>"
      ]
     },
     "metadata": {},
     "output_type": "display_data"
    },
    {
     "data": {
      "image/png": "[encoded data removed]",
      "text/plain": [
       "<Figure size 432x288 with 1 Axes>"
      ]
     },
     "metadata": {},
     "output_type": "display_data"
    }
   ],
   "source": [
    "resample_0 = simulate_resample()\n",
    "plot_serial_numbers(resample_0)\n",
    "\n",
    "mean_based_estimate_0 = mean_based_estimator(resample_0.column(\"serial number\"))\n",
    "max_based_estimate_0 = max(resample_0.column(\"serial number\"))\n",
    "print(\"Mean-based estimate for resample 0:\", mean_based_estimate_0)\n",
    "print(\"Max-based estimate for resample 0:\", max_based_estimate_0)\n",
    "\n",
    "resample_1 = simulate_resample()\n",
    "plot_serial_numbers(resample_1)\n",
    "\n",
    "mean_based_estimate_1 = mean_based_estimator(resample_1.column(\"serial number\")) \n",
    "max_based_estimate_1 = max(resample_1.column(\"serial number\"))\n",
    "\n",
    "print(\"Mean-based estimate for resample 1:\", mean_based_estimate_1)\n",
    "print(\"Max-based estimate for resample 1:\", max_based_estimate_1)"
   ]
  },
  {
   "cell_type": "markdown",
   "metadata": {},
   "source": [
    "You may find that the max-based estimates from the resamples are both exactly 135.  You will probably find that the two mean-based estimates do differ from the sample mean-based estimate (and from each other).\n",
    "\n",
    "#### Question 2.5\n",
    "Using probability that you've learned, compute the exact chance that a max-based estimate from *one* resample is 135.  \n",
    "Using your intuition, explain why a mean-based estimate from a resample is less often exactly equal to the mean-based estimate from the original sample as compared to a max-based estimate."
   ]
  },
  {
   "cell_type": "markdown",
   "metadata": {},
   "source": [
    "The chance of getting at least one 135 is 1 - (16/17)^17 = 64%\n",
    "\n",
    "It is less often exactly equal because in order to be exactly equal it would need to have exatly the same elements or each difference exactly balance out."
   ]
  },
  {
   "cell_type": "markdown",
   "metadata": {},
   "source": [
    "Discuss your answers with a neighbor or TA.  If you have difficulty with the probability calculation, work with someone or ask for help; don't stay stuck on it for too long."
   ]
  },
  {
   "cell_type": "markdown",
   "metadata": {},
   "source": [
    "## 3. Simulating with resampling\n",
    "Since resampling from a sample looks just like sampling from a population, the code should look almost the same.  That means we can write a function that simulates either sampling from a population or resampling from a sample.  If we pass it a population as its argument, it will do the former; if we pass it a sample, it will do the latter.\n",
    "\n",
    "#### Question 3.1\n",
    "Write a function called `simulate_estimates`.  It should take 4 arguments:\n",
    "1. A table from which the data should be sampled.  The table will have 1 column named `\"serial number\"`.\n",
    "2. The size of each sample from that table, an integer.  (For example, to do resampling, we would pass for this argument the number of rows in the table.)\n",
    "3. A function that computes a statistic of a sample.  This argument is a *function* that takes an array of serial numbers as its argument and returns a number.\n",
    "4. The number of replications to perform.\n",
    "\n",
    "It should simulate many samples with replacement from the given table.  (The number of samples is the 4th argument.)  For each of those samples, it should compute the statistic on that sample. Then it should return an array containing each of those statistics.  The code below provides an example use of your function and describes how you can verify that you've written it correctly."
   ]
  },
  {
   "cell_type": "code",
   "execution_count": 22,
   "metadata": {
    "for_assignment_type": "student"
   },
   "outputs": [
    {
     "data": {
      "image/png": "[encoded data removed]",
      "text/plain": [
       "<Figure size 432x288 with 1 Axes>"
      ]
     },
     "metadata": {},
     "output_type": "display_data"
    }
   ],
   "source": [
    "def simulate_estimates(original_table, sample_size, statistic, num_replications):\n",
    "    # Our implementation of this function took 5 short lines of code.\n",
    "    stats = make_array()\n",
    "    for i in np.arange(num_replications):\n",
    "        s = statistic(original_table.sample(sample_size).column(\"serial number\"))\n",
    "        stats = np.append(stats, s)\n",
    "    return stats\n",
    "# This should generate an empirical histogram of twice-mean estimates\n",
    "# of N from samples of size 50 if N is 1000.  This should be a bell-shaped\n",
    "# curve centered at 1000 with most of its mass in [800, 1200].  To verify your\n",
    "# answer, make sure that's what you see!\n",
    "example_estimates = simulate_estimates(\n",
    "    Table().with_column(\"serial number\", np.arange(1, 1000+1)),\n",
    "    50,\n",
    "    mean_based_estimator,\n",
    "    10000)\n",
    "Table().with_column(\"mean-based estimate\", example_estimates).hist(bins=np.arange(0, 1500, 25))"
   ]
  },
  {
   "cell_type": "markdown",
   "metadata": {},
   "source": [
    "Now we can go back to the sample we actually observed (the table `observations`) and estimate how much our mean-based estimate of `N` would have varied from sample to sample."
   ]
  },
  {
   "cell_type": "markdown",
   "metadata": {},
   "source": [
    "#### Question 3.2\n",
    "Using the bootstrap and the sample `observations`, simulate the approximate distribution of *mean-based estimates* of `N`.  Use 5,000 replications.  \n",
    "We have provided code that plots a histogram, allowing you to visualize the simulated estimates."
   ]
  },
  {
   "cell_type": "code",
   "execution_count": 23,
   "metadata": {},
   "outputs": [
    {
     "data": {
      "image/png": "[encoded data removed]",
      "text/plain": [
       "<Figure size 432x288 with 1 Axes>"
      ]
     },
     "metadata": {},
     "output_type": "display_data"
    }
   ],
   "source": [
    "bootstrap_estimates = simulate_estimates(observations, num_observations, mean_based_estimator, 5000)\n",
    "Table().with_column(\"mean-based estimate\", bootstrap_estimates).hist(bins=np.arange(0, 200, 4)) "
   ]
  },
  {
   "cell_type": "markdown",
   "metadata": {},
   "source": [
    "#### Question 3.3\n",
    "Compute an interval that covers the middle 95% of the bootstrap estimates.  Verify that your interval looks like it covers 95% of the area in the histogram above."
   ]
  },
  {
   "cell_type": "code",
   "execution_count": 25,
   "metadata": {},
   "outputs": [
    {
     "name": "stdout",
     "output_type": "stream",
     "text": [
      "Middle 95% of bootstrap estimates: [94.823529, 152.000000]\n"
     ]
    }
   ],
   "source": [
    "left_end = percentile(2.5, bootstrap_estimates)\n",
    "right_end = percentile(97.5, bootstrap_estimates)\n",
    "print(\"Middle 95% of bootstrap estimates: [{:f}, {:f}]\".format(left_end, right_end))"
   ]
  },
  {
   "cell_type": "markdown",
   "metadata": {},
   "source": [
    "#### Question 3.4\n",
    "Your mean-based estimate of `N` should have been around 122.  Given the above calculations, is it likely that `N` is exactly 122?  Quantify the amount of error in the estimate by making a statement like this:\n",
    "\n",
    "> \"Assuming the population looks similar to the sample, the *difference* between `N` and mean-based estimates of `N` from samples of size 17 is typically in the range [A NUMBER, ANOTHER NUMBER].\""
   ]
  },
  {
   "cell_type": "markdown",
   "metadata": {},
   "source": [
    "It is not likely that N is exactly 122. It is probable that N is within 30 or 40 of it."
   ]
  },
  {
   "cell_type": "markdown",
   "metadata": {},
   "source": [
    "#### Question 3.5\n",
    "`N` was actually 150!  Write code that simulates the sampling and bootstrapping process again, as follows:\n",
    "\n",
    "1. Generate a new set of random observations the RAF might have seen by sampling from the population table we have created for you below. \n",
    "2. Compute an estimate of `N` from these new observations, using `mean_based_estimator`.\n",
    "3. Using only the new observations, compute 5,000 bootstrap estimates of `N`.\n",
    "4. Plot these bootstrap estimates and compute an interval covering the middle 95%."
   ]
  },
  {
   "cell_type": "code",
   "execution_count": 27,
   "metadata": {},
   "outputs": [
    {
     "name": "stdout",
     "output_type": "stream",
     "text": [
      "Middle 95% of bootstrap estimates: [88.941176, 177.529412]\n"
     ]
    },
    {
     "data": {
      "image/png": "[encoded data removed]",
      "text/plain": [
       "<Figure size 432x288 with 1 Axes>"
      ]
     },
     "metadata": {},
     "output_type": "display_data"
    }
   ],
   "source": [
    "population = Table().with_column(\"serial number\", np.arange(1, 150+1))\n",
    "\n",
    "new_observations = population.sample(num_observations)\n",
    "new_mean_based_estimate = mean_based_estimator(new_observations.column(\"serial number\")) \n",
    "new_bootstrap_estimates = simulate_estimates(new_observations, num_observations, mean_based_estimator, 5000) \n",
    "\n",
    "Table().with_column(\"mean-based estimate\", new_bootstrap_estimates).hist(bins=np.arange(0, 252, 4))\n",
    "\n",
    "new_left_end =  percentile(2.5, new_bootstrap_estimates)\n",
    "new_right_end  = percentile(97.5, new_bootstrap_estimates)\n",
    "\n",
    "print(\"Middle 95% of bootstrap estimates: [{:f}, {:f}]\".format(new_left_end, new_right_end))"
   ]
  },
  {
   "cell_type": "markdown",
   "metadata": {},
   "source": [
    "#### Question 3.6\n",
    "Does the interval covering the middle 95% of the new bootstrap estimates include `N`?  If you ran that cell many times, what is the probability that it will include `N`?"
   ]
  },
  {
   "cell_type": "markdown",
   "metadata": {},
   "source": [
    "Yes, it does. The probability it will include N is 0.95."
   ]
  },
  {
   "cell_type": "code",
   "execution_count": 28,
   "metadata": {},
   "outputs": [
    {
     "name": "stdout",
     "output_type": "stream",
     "text": [
      "~~~~~~~~~~~~~~~~~~~~~~~~~~~~~~~~~~~~~~~~~~~~~~~~~~~~~~~~~~~~~~~~~~~~~\n",
      "Running tests\n",
      "\n",
      "---------------------------------------------------------------------\n",
      "Test summary\n",
      "    Passed: 1\n",
      "    Failed: 0\n",
      "[ooooooooook] 100.0% passed\n",
      "\n",
      "~~~~~~~~~~~~~~~~~~~~~~~~~~~~~~~~~~~~~~~~~~~~~~~~~~~~~~~~~~~~~~~~~~~~~\n",
      "Running tests\n",
      "\n",
      "---------------------------------------------------------------------\n",
      "Test summary\n",
      "    Passed: 1\n",
      "    Failed: 0\n",
      "[ooooooooook] 100.0% passed\n",
      "\n",
      "~~~~~~~~~~~~~~~~~~~~~~~~~~~~~~~~~~~~~~~~~~~~~~~~~~~~~~~~~~~~~~~~~~~~~\n",
      "Running tests\n",
      "\n",
      "---------------------------------------------------------------------\n",
      "Test summary\n",
      "    Passed: 1\n",
      "    Failed: 0\n",
      "[ooooooooook] 100.0% passed\n",
      "\n"
     ]
    }
   ],
   "source": [
    "# For your convenience, you can run this cell to run all the tests at once!\n",
    "import os\n",
    "_ = [ok.grade(q[:-3]) for q in os.listdir(\"tests\") if q.startswith('q')]"
   ]
  },
  {
   "cell_type": "code",
   "execution_count": null,
   "metadata": {},
   "outputs": [
    {
     "data": {
      "application/javascript": [
       "IPython.notebook.save_checkpoint();"
      ],
      "text/plain": [
       "<IPython.core.display.Javascript object>"
      ]
     },
     "metadata": {},
     "output_type": "display_data"
    }
   ],
   "source": [
    "_ = ok.submit()"
   ]
  },
  {
   "cell_type": "code",
   "execution_count": null,
   "metadata": {},
   "outputs": [],
   "source": []
  }
 ],
 "metadata": {
  "kernelspec": {
   "display_name": "Python 3",
   "language": "python",
   "name": "python3"
  },
  "language_info": {
   "codemirror_mode": {
    "name": "ipython",
    "version": 3
   },
   "file_extension": ".py",
   "mimetype": "text/x-python",
   "name": "python",
   "nbconvert_exporter": "python",
   "pygments_lexer": "ipython3",
   "version": "3.8.5"
  }
 },
 "nbformat": 4,
 "nbformat_minor": 1
}
